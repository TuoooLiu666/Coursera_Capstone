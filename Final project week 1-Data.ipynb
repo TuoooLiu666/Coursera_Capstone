{
 "cells": [
  {
   "cell_type": "markdown",
   "metadata": {},
   "source": [
    "### 2. Data acquisition & preparation"
   ]
  },
  {
   "cell_type": "markdown",
   "metadata": {},
   "source": [
    "#### 2.1 Data source\n",
    "* “List of Postal code of Canada: M” (https://en.wikipedia.org/wiki/List_of_postal_codes_of_Canada:_M) to get Postal code, borough & the name of all the neighborhoods about the neighborhoods present in Toronto.  \n",
    "* “https://cocl.us/Geospatial_data.csv” file to get all the geographical coordinates of the neighborhoods.\n",
    "* “Demographics of Toronto” (https://en.m.wikipedia.org/wiki/Demographics_of_Toronto#Ethnic_diversity) wiki page to get demographic distribution of population by their ethnicity, which will be helpful in identifying the suitable neighborhood to open a new Chinese restaurant.\n",
    "* Foursquare’s explore API to fetch details about the venues up present in Toronto and collected their names, categories and locations (latitude and longitude)."
   ]
  },
  {
   "cell_type": "markdown",
   "metadata": {},
   "source": [
    "Using Foursquare API (https://developer.foursquare.com/docs), following information was retrieved for each venue:\n",
    "* Name: The name of the venue.\n",
    "* Category: The category type as defined by the API.\n",
    "* Latitude: The latitude value of the venue.\n",
    "* Longitude: The longitude value of the venue."
   ]
  },
  {
   "cell_type": "markdown",
   "metadata": {},
   "source": [
    "#### 2.2 Data Cleaning\n",
    "a) Scraping Toronto Neighborhoods Table from Wikipedia\\\n",
    "Scraped the “List of Postal code of Canada: M” in order to obtain the data about the Toronto & the Neighborhoods. \\\n",
    "\\\n",
    "Assumptions made to attain the below DataFrame: \n",
    "* Dataframe will consist of three columns: PostalCode, Borough, and Neighborhood\n",
    "* Only the cells that have an assigned borough will be processed. Borough that is not assigned are ignored.\n",
    "* More than one neighborhood can exist in one postal code area. For example, in the table on the Wikipedia page, you will notice that M5A is listed twice and has two neighborhoods: Harbourfront and Regent Park. These two rows will be combined into one row with the neighborhoods separated with a comma as shown in row 11 in the above table.\n",
    "* If a cell has a borough but a Not assigned neighborhood, then the neighborhood will be the same as the borough."
   ]
  },
  {
   "cell_type": "markdown",
   "metadata": {},
   "source": [
    "b) Adding geographical coordinates to the neighborhoods\\\n",
    "Next important step is adding the geographical coordinates to these neighborhoods. To do so I’m going to be using the Geospatial Data csv file provided above and combining it with the existing neighborhood dataframe by merging them on the postal code column."
   ]
  },
  {
   "cell_type": "markdown",
   "metadata": {},
   "source": [
    "c) Scrap the distribution of population from Wikipedia \\\n",
    "Scraped “Demographics of Toronto” to obtain the data about the Toronto & the Neighborhoods in it. Compared to all the neighborhoods in Toronto below given neighborhoods only had considerable amount of Chinese crowd. We are examining those neighborhood’s population to identify the densely populated neighborhoods with Chinese population."
   ]
  },
  {
   "cell_type": "markdown",
   "metadata": {},
   "source": [
    "d) Get location data using Foursquare \\\n",
    "Foursquare API is very useful online application used my many developers & other applications like Uber etc. In this project I have used it to retrieve information about the places present in the neighborhoods of Toronto. The API returns a JSON file and we need to turn that into a data-frame. Here I’ve chosen 100 popular spots for each neighborhood within a radius of 0.5km."
   ]
  },
  {
   "cell_type": "code",
   "execution_count": null,
   "metadata": {},
   "outputs": [],
   "source": []
  }
 ],
 "metadata": {
  "kernelspec": {
   "display_name": "Python",
   "language": "python",
   "name": "conda-env-python-py"
  },
  "language_info": {
   "codemirror_mode": {
    "name": "ipython",
    "version": 3
   },
   "file_extension": ".py",
   "mimetype": "text/x-python",
   "name": "python",
   "nbconvert_exporter": "python",
   "pygments_lexer": "ipython3",
   "version": "3.6.10"
  }
 },
 "nbformat": 4,
 "nbformat_minor": 4
}
