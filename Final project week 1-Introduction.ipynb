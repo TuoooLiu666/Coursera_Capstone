{
 "cells": [
  {
   "cell_type": "markdown",
   "metadata": {},
   "source": [
    "## Exploring neighborhoods & Chinese restaurants in Toronto.\n",
    "### Web-scraping, Foursquare API, Folium Map,  Machine Learning"
   ]
  },
  {
   "cell_type": "markdown",
   "metadata": {},
   "source": [
    "As a two-week IBM Data Science professional certificate program Capstone Project, I will work on web-based datasets to get a taste of what a typical day of data scientist is like in real life. Main objectives of this project is to define a business problem, look for data in the web and, use Foursquare API to compare different neighborhoods of Toronto to figure out the status quo of Asian & Chinese restaurant and which neighborhood is most suitable for starting a new Chinese restaurant. We will go through all the process step by step from problem description, data preparation, analyses and finally provide a conclusion that can be beneficial to the business stakeholders to make their decisions."
   ]
  },
  {
   "cell_type": "markdown",
   "metadata": {},
   "source": [
    "INSTRUCTION: **Clearly define a problem or an idea of your choice, where you would need to leverage the Foursquare location data to solve or execute. Remember that data science problems always target an audience and are meant to help a group of stakeholders solve a problem, so make sure that you explicitly describe your audience and why they would care about your problem.**"
   ]
  },
  {
   "cell_type": "markdown",
   "metadata": {},
   "source": [
    "### 1. Background & Description of the Business Problem."
   ]
  },
  {
   "cell_type": "markdown",
   "metadata": {},
   "source": [
    "#### Problem Statement: status quo & prospects of starting a Chinese restaurant in Toronto, Canada."
   ]
  },
  {
   "cell_type": "markdown",
   "metadata": {},
   "source": [
    "Toronto, the capital of the province of Ontario, is the most populated Canadian city. Its diversity is reflected in Toronto’s ethnic neighborhoods such as Chinatown, Corso Italia, Greektown, Kensington Market, Koreatown, Little India, Little Italy, Little Jamaica, Little Portugal & Roncesvalles. it is one of the best places to start an Chinese restaurant as one of the most immigrant-friendly cities in North America.\n",
    "Unlike other business, e.g. stock, real estate, the demand for food is continuously high, especially in a Internationally renown city. Besides, Chinese is the third largest population group in local Toronto neighborhoods and people within this group have strong need for food from Chinese restaurant. Reasoning above supports that Toronto is a ideal location to choose a neighborhood and start a restaurant from. So what is the status quo of local restaurants in Toronto? In which neighborhood(s) is Chinese restaurant most popular?  and where should we start a Chinese restaurant? "
   ]
  },
  {
   "cell_type": "markdown",
   "metadata": {},
   "source": [
    "#### Target Audience\n",
    "Who's going to be interested in this problem? And to whom this problem will be beneficial? as I dive into the problem and determine the optimistic location to start a restaurant:\n",
    "1. Business personnel who wants to invest or open up an Chinese restaurant in Toronto. This analysis will be a preliminary guide to start or expand restaurants targeting the Chinese customers. \n",
    "2. Crowd who wants to find a Chinese restaurant to dine in.  \n",
    "3. Business Analyst or Data Scientists, who wish to analyze the neighborhoods of Toronto using Exploratory Data Analysis and other statistical & machine learning techniques to obtain all the necessary data, perform some operations on it and, finally be able to tell a cogent story out of it."
   ]
  }
 ],
 "metadata": {
  "kernelspec": {
   "display_name": "Python",
   "language": "python",
   "name": "conda-env-python-py"
  },
  "language_info": {
   "codemirror_mode": {
    "name": "ipython",
    "version": 3
   },
   "file_extension": ".py",
   "mimetype": "text/x-python",
   "name": "python",
   "nbconvert_exporter": "python",
   "pygments_lexer": "ipython3",
   "version": "3.6.10"
  }
 },
 "nbformat": 4,
 "nbformat_minor": 4
}
