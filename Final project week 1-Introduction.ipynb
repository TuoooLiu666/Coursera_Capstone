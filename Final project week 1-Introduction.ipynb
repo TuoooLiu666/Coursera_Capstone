{
 "cells": [
  {
   "cell_type": "markdown",
   "metadata": {},
   "source": [
    "## Exploring neighborhoods to open a new restaurant in Toronto.\n",
    "### Web-scraping, Foursquare API, Folium Map,  Machine Learning"
   ]
  },
  {
   "cell_type": "markdown",
   "metadata": {},
   "source": [
    "As a two-week IBM Data Science professional certificate program Capstone Project, I will work on real datasets to get a taste of what a typical day of data scientist is like in real life. Main objectives of this project were to define a business problem, look for data in the web and, use Foursquare location data to compare different neighborhoods of Toronto to figure out which neighborhood is suitable for starting a new Chinese restaurant. We will go through all the process step by step from problem description, data preparation, analyses and finally will provide a conclusion that can be leveraged by the business stakeholders to make their decisions."
   ]
  },
  {
   "cell_type": "markdown",
   "metadata": {},
   "source": [
    "### 1. Background & Description of the Business Problem."
   ]
  },
  {
   "cell_type": "markdown",
   "metadata": {},
   "source": [
    "#### Problem Statement:Prospects of opening an Chinese Restaurant in Toronto, Canada."
   ]
  },
  {
   "cell_type": "markdown",
   "metadata": {},
   "source": [
    "Toronto, the capital of the province of Ontario, is the most populated Canadian city. Its diversity is reflected in Toronto’s ethnic neighborhoods such as Chinatown, Corso Italia, Greektown, Kensington Market, Koreatown, Little India, Little Italy, Little Jamaica, Little Portugal & Roncesvalles. it is one of the best places to start an Chinese restaurant as one of the most immigrant-friendly cities in North America."
   ]
  },
  {
   "cell_type": "markdown",
   "metadata": {},
   "source": [
    "#### Target Audience\n",
    "1. Business personnel who wants to invest or open an Chinese restaurant in Toronto. This analysis will be a preliminary guide to start or expand restaurants targeting the Chinese crowd. \n",
    "3. Freelancer who loves to have their own restaurant as a side business. This analysis will provide an idea, how beneficial it is to open a restaurant and what are the pros and cons of this business. \n",
    "4. Chinese crowd who wants to find a Chinese restaurant to dine in.  \n",
    "5. Business Analyst or Data Scientists, who wish to analyze the neighborhoods of Toronto using Exploratory Data Analysis and other statistical & machine learning techniques to obtain all the necessary data, perform some operations on it and, finally be able to tell a cogent story out of it."
   ]
  },
  {
   "cell_type": "code",
   "execution_count": null,
   "metadata": {},
   "outputs": [],
   "source": []
  }
 ],
 "metadata": {
  "kernelspec": {
   "display_name": "Python",
   "language": "python",
   "name": "conda-env-python-py"
  },
  "language_info": {
   "codemirror_mode": {
    "name": "ipython",
    "version": 3
   },
   "file_extension": ".py",
   "mimetype": "text/x-python",
   "name": "python",
   "nbconvert_exporter": "python",
   "pygments_lexer": "ipython3",
   "version": "3.6.10"
  }
 },
 "nbformat": 4,
 "nbformat_minor": 4
}
