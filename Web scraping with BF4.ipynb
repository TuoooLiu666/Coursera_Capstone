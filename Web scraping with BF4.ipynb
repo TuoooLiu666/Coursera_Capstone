{
 "cells": [
  {
   "cell_type": "markdown",
   "metadata": {},
   "source": [
    "## Segmenting and Clustering Neighborhoods in the city of Toronto, Canada"
   ]
  },
  {
   "cell_type": "code",
   "execution_count": 31,
   "metadata": {},
   "outputs": [],
   "source": [
    "url = \"https://en.wikipedia.org/wiki/List_of_postal_codes_of_Canada:_M\""
   ]
  },
  {
   "cell_type": "code",
   "execution_count": 32,
   "metadata": {},
   "outputs": [],
   "source": [
    "#!conda install -c conda-forge bs4 --yes\n",
    "from bs4 import BeautifulSoup\n",
    "import requests\n",
    "page = requests.get(url)"
   ]
  },
  {
   "cell_type": "code",
   "execution_count": 33,
   "metadata": {},
   "outputs": [
    {
     "name": "stdout",
     "output_type": "stream",
     "text": [
      "<title>List of postal codes of Canada: M - Wikipedia</title>\n",
      "List of postal codes of Canada: M - Wikipedia\n"
     ]
    }
   ],
   "source": [
    "page = requests.get(url)\n",
    "#page.text\n",
    "soup = BeautifulSoup(page.text,'html.parser')\n",
    "print(soup.title)\n",
    "print(soup.title.string)"
   ]
  },
  {
   "cell_type": "code",
   "execution_count": 85,
   "metadata": {},
   "outputs": [
    {
     "name": "stdout",
     "output_type": "stream",
     "text": [
      "181\n"
     ]
    }
   ],
   "source": [
    "import pandas as pd\n",
    "table = soup.find('table', {\"class\":\"wikitable sortable\"}).tbody\n",
    "row = table.find_all('tr')\n",
    "colnames = [v.text.replace('\\n','') for v in row[0].find_all('th')]\n",
    "tds = row.find_all('td')\n",
    "#print(table)\n",
    "print(len(row))"
   ]
  },
  {
   "cell_type": "markdown",
   "metadata": {},
   "source": [
    "#### Web scraping table from wiki with bf4"
   ]
  },
  {
   "cell_type": "code",
   "execution_count": 106,
   "metadata": {},
   "outputs": [],
   "source": [
    "#print(soup.a)\n",
    "#print(soup.p)\n",
    "#print(soup.p.text)\n",
    "#print(soup.p.parent)\n",
    "import pandas as pd\n",
    "table = soup.find('table', {\"class\":\"wikitable sortable\"}).tbody\n",
    "row = table.find_all('tr')\n",
    "colnames = [v.text.replace('\\n','') for v in row[0].find_all('th')]\n",
    "\n",
    "\n",
    "df = pd.DataFrame(columns=colnames)\n",
    "for i in range(1,len(row)):\n",
    "    tds = row[i].find_all('td')\n",
    "    \n",
    "    if len(tds)==2:\n",
    "        values = [tds[0].text.replace('\\n',''),tds[1].text.replace('\\n',''),''.replace('\\n','')]\n",
    "    else:\n",
    "        values = [td.text.replace('\\n','') for td in tds]\n",
    "        \n",
    "    df = df.append(pd.Series(values, index=colnames), ignore_index=True)\n",
    "    df.to_csv('canadaneighbor.csv', index=False)"
   ]
  },
  {
   "cell_type": "code",
   "execution_count": 15,
   "metadata": {},
   "outputs": [],
   "source": [
    "# try using Pandas\n",
    "#!conda install -c conda-forge pandas.io.html --yes\n",
    "#!conda install -c conda-forge lxml --yes\n",
    "#!conda install -c conda-forge html5lib --yes\n",
    "# import lxml\n",
    "# from pandas.io.html import read_html\n",
    "# wikitable = read_html(url, attrs={\"class\":\"wikitable\"})\n",
    "# print('Extract {} table from wikipedia'.format(len(wikitable)))#"
   ]
  },
  {
   "cell_type": "code",
   "execution_count": 113,
   "metadata": {},
   "outputs": [
    {
     "data": {
      "text/html": [
       "<div>\n",
       "<style scoped>\n",
       "    .dataframe tbody tr th:only-of-type {\n",
       "        vertical-align: middle;\n",
       "    }\n",
       "\n",
       "    .dataframe tbody tr th {\n",
       "        vertical-align: top;\n",
       "    }\n",
       "\n",
       "    .dataframe thead th {\n",
       "        text-align: right;\n",
       "    }\n",
       "</style>\n",
       "<table border=\"1\" class=\"dataframe\">\n",
       "  <thead>\n",
       "    <tr style=\"text-align: right;\">\n",
       "      <th></th>\n",
       "      <th>Postal Code</th>\n",
       "      <th>Borough</th>\n",
       "      <th>Neighborhood</th>\n",
       "    </tr>\n",
       "  </thead>\n",
       "  <tbody>\n",
       "    <tr>\n",
       "      <th>0</th>\n",
       "      <td>M3A</td>\n",
       "      <td>North York</td>\n",
       "      <td>Parkwoods</td>\n",
       "    </tr>\n",
       "    <tr>\n",
       "      <th>1</th>\n",
       "      <td>M4A</td>\n",
       "      <td>North York</td>\n",
       "      <td>Victoria Village</td>\n",
       "    </tr>\n",
       "    <tr>\n",
       "      <th>2</th>\n",
       "      <td>M5A</td>\n",
       "      <td>Downtown Toronto</td>\n",
       "      <td>Regent Park, Harbourfront</td>\n",
       "    </tr>\n",
       "    <tr>\n",
       "      <th>3</th>\n",
       "      <td>M6A</td>\n",
       "      <td>North York</td>\n",
       "      <td>Lawrence Manor, Lawrence Heights</td>\n",
       "    </tr>\n",
       "    <tr>\n",
       "      <th>4</th>\n",
       "      <td>M7A</td>\n",
       "      <td>Downtown Toronto</td>\n",
       "      <td>Queen's Park, Ontario Provincial Government</td>\n",
       "    </tr>\n",
       "  </tbody>\n",
       "</table>\n",
       "</div>"
      ],
      "text/plain": [
       "  Postal Code           Borough                                 Neighborhood\n",
       "0         M3A        North York                                    Parkwoods\n",
       "1         M4A        North York                             Victoria Village\n",
       "2         M5A  Downtown Toronto                    Regent Park, Harbourfront\n",
       "3         M6A        North York             Lawrence Manor, Lawrence Heights\n",
       "4         M7A  Downtown Toronto  Queen's Park, Ontario Provincial Government"
      ]
     },
     "execution_count": 113,
     "metadata": {},
     "output_type": "execute_result"
    }
   ],
   "source": [
    "can = pd.read_csv('canadaneighbor.csv').dropna(how='any',axis=0).reset_index(drop=True)\n",
    "can = pd.DataFrame(can) # convert target dataset into pandas data frame\n",
    "can.head()"
   ]
  },
  {
   "cell_type": "code",
   "execution_count": null,
   "metadata": {},
   "outputs": [],
   "source": []
  }
 ],
 "metadata": {
  "kernelspec": {
   "display_name": "Python",
   "language": "python",
   "name": "conda-env-python-py"
  },
  "language_info": {
   "codemirror_mode": {
    "name": "ipython",
    "version": 3
   },
   "file_extension": ".py",
   "mimetype": "text/x-python",
   "name": "python",
   "nbconvert_exporter": "python",
   "pygments_lexer": "ipython3",
   "version": "3.6.10"
  }
 },
 "nbformat": 4,
 "nbformat_minor": 4
}
